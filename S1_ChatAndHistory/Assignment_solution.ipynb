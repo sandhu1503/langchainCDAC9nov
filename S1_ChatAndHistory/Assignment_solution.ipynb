{
 "cells": [
  {
   "cell_type": "code",
   "execution_count": null,
   "metadata": {},
   "outputs": [],
   "source": [
    "import os\n",
    "import configparser\n",
    "from langchain_groq import ChatGroq\n",
    "from langchain_cohere import ChatCohere\n",
    "from langchain_core.messages import HumanMessage, SystemMessage\n",
    "config = configparser.ConfigParser()\n",
    "config.read('../config.ini')\n",
    "groq = config['groq']\n",
    "cohere = config['cohere']\n",
    "\n",
    "os.environ['GROQ_API_KEY'] = groq.get('GROQ_API_KEY')\n",
    "os.environ['COHERE_API_KEY'] = cohere.get('COHERE_API_KEY')"
   ]
  },
  {
   "cell_type": "code",
   "execution_count": 9,
   "metadata": {},
   "outputs": [
    {
     "data": {
      "text/plain": [
       "\"In the bustling city of Bengaluru, India, the renowned actor Amitabh Bachchan stars as Dr. Ajay Singh, a brilliant scientist and inventor, in a thrilling sci-fi adventure. \\n\\nDr. Singh, known for his groundbreaking work in artificial intelligence, has created a revolutionary humanoid robot named RITA, capable of incredible processing power and equipped with advanced AI. As he prepares to unveil his creation to the world, little does he know that a powerful corporation has its eyes on RITA for their nefarious purposes. \\n\\nOne night, as Dr. Singh works late in his laboratory, located in the heart of Bengaluru's tech hub, he notices strange activity on his computer. Realizing that someone is trying to hack into RITA's system, he springs into action. With his quick thinking, he manages to thwart the intrusion, but it leaves him concerned and curious. \\n\\nDetermined to get to the bottom of it, Dr. Singh enlists the help of a young and ambitious journalist, Maya (played by a talented upcoming actress). Together, they uncover a shocking conspiracy involving a powerful tech mogul, Rahul Verma, who will stop at nothing to acquire RITA and use her advanced capabilities to further his monopoly on the industry. \\n\\nAs they delve deeper, they find themselves in a dangerous game of cat and mouse, with Verma's henchmen hot on their trail. Using his quick wit and scientific expertise, Dr. Singh stays one step ahead, often barely escaping dangerous situations. From the vibrant streets of Bengaluru to the serene backdrop of the nearby Nandi Hills, the chase takes them across the city and beyond. \\n\\nWith each discovery, they uncover a darker truth about Verma's plans, realizing that RITA's capabilities could be misused to control and manipulate people's lives, threatening their freedom and privacy. Determined to prevent this, Dr. Singh and Maya rally a small group of trusted allies to help them expose Verma and save RITA from falling into the wrong hands. \\n\\nIn a climactic showdown, set against the futuristic backdrop of Bengaluru's iconic tech park, Dr. Singh and his team face off against Verma and his henchmen. With RITA's help, they ultimately prevail, exposing Verma's crimes to the world. \\n\\nIn the end, Dr. Ajay Singh, played by the charismatic Amitabh Bachchan, emerges as a hero, ensuring that his revolutionary creation, RITA, will be used for the betterment of humanity, forever changing the course of technology and society in India and beyond. \\n\\nThe story, blending the charm of Bengaluru with the thrilling world of sci-fi, showcases the power of innovation and the importance of ethical responsibility in a captivating and entertaining manner.\""
      ]
     },
     "execution_count": 9,
     "metadata": {},
     "output_type": "execute_result"
    }
   ],
   "source": [
    "import function\n",
    "from langchain_core.output_parsers import StrOutputParser\n",
    "from langchain_core.prompts import ChatPromptTemplate #import the Class for creating a prompt\n",
    "\n",
    "parser = StrOutputParser()\n",
    "actor = function.actor_picker() \n",
    "location = function.location_picker()\n",
    "theme = function.theme_picker()\n",
    "\n",
    "system_template = \"generates a story centered around the chosen Actor, Location, and Theme.Please provide a {responseType} response.\" \n",
    "\n",
    "input = f\"Create a story where {actor} is the main character in {location}, and the story follows a {theme} theme.\"\n",
    "# Create prompt template instance.\n",
    "prompt_template = ChatPromptTemplate.from_messages(\n",
    "    [\n",
    "        (\"system\", system_template),\n",
    "        (\"user\", input)\n",
    "    ]\n",
    ")\n",
    "\n",
    "# prompt Template also implements runnable and can be easily chained.\n",
    "model = ChatCohere(model=\"command-r-plus\")\n",
    "chain = prompt_template | model | parser\n",
    "\n",
    "chain.invoke({\"responseType\":\"brief\"})\n"
   ]
  },
  {
   "cell_type": "code",
   "execution_count": 10,
   "metadata": {},
   "outputs": [
    {
     "data": {
      "text/plain": [
       "\"Title: The Quantum Conspiracy\\n\\nIn the bustling city of Bengaluru, India's Silicon Valley, Amitabh Bachchan, a renowned scientist, stumbled upon a cryptic message while working late one night in his lab. The message, encoded in a complex algorithm, hinted at a sinister plot to manipulate the city's quantum infrastructure.\\n\\nAs Big B, as he's affectionately known, delved deeper into the mystery, he discovered that a group of rogue scientists had infiltrated the city's quantum computing facilities, using the technology to alter the fabric of reality.\\n\\nThe scientists, led by a charismatic and cunning leader, had created a device capable of manipulating the quantum states of particles, allowing them to bend time and space to their will. Their ultimate goal was to create a temporal loop, trapping Bengaluru in an eternal cycle of chaos and destruction.\\n\\nWith the help of his trusted colleague, a brilliant young scientist named Shreya, Big B embarked on a perilous mission to stop the rogue scientists. They navigated the city's underground tunnels and hidden laboratories, avoiding deadly traps and battling the sinister forces head-on.\\n\\nAs the stakes grew higher, Big B's legendary wit and bravery were put to the test. He used his vast knowledge of quantum mechanics to outsmart the villains and disable their device. But just as they thought they had succeeded, the leader of the rogue scientists revealed a shocking twist: the device had been designed to create a quantum singularity, a black hole that would consume the entire city.\\n\\nWith time running out, Big B and Shreya joined forces with the city's authorities to launch a desperate bid to stop the singularity. In a heart-pumping climax, they harnessed the power of Bengaluru's quantum infrastructure to create a counter-singularity, stabilizing the city's timeline and saving it from destruction.\\n\\nAs the dust settled, Big B stood victorious, his reputation as a hero cemented in the annals of Bengaluru's history. The city celebrated his bravery, and the quantum conspiracy was forever silenced. But in the shadows, the rogue scientists vowed to one day exact their revenge, setting the stage for a new adventure in the world of quantum intrigue.\""
      ]
     },
     "execution_count": 10,
     "metadata": {},
     "output_type": "execute_result"
    }
   ],
   "source": [
    "model = ChatGroq(model=\"llama3-8b-8192\")\n",
    "chain = prompt_template | model | parser\n",
    "\n",
    "chain.invoke({\"responseType\":\"brief\"})"
   ]
  },
  {
   "cell_type": "code",
   "execution_count": 11,
   "metadata": {},
   "outputs": [
    {
     "name": "stdout",
     "output_type": "stream",
     "text": [
      "Messages retrieved from DB\n",
      "Generated Story: What an intriguing request! Here's a story where the legendary Amitabh Bachchan takes center stage in Bengaluru, in a sci-fi adventure like no other:\n",
      "\n",
      "**Title:** \"The Quantum Quest of Big B\"\n",
      "\n",
      "**Synopsis:** In the bustling metropolis of Bengaluru, a strange phenomenon has been detected by the city's top scientists. A rift in the space-time continuum has opened, threatening to unravel the very fabric of reality. Enter Amitabh Bachchan, aka \"Big B,\" a renowned actor and local legend, who finds himself at the forefront of this intergalactic crisis.\n",
      "\n",
      "**Story:**\n",
      "\n",
      "It's a typical sunny day in Bengaluru when Big B, now in his 70s, receives an unexpected visit from Dr. Nalini, a brilliant physicist from the Indian Institute of Science (IISc). She bursts into his home, frantically explaining that the city is on the brink of disaster. A quantum anomaly has appeared, causing distortions in the space-time continuum. The anomaly, dubbed \"The Bengaluru Bubble,\" is growing in size and intensity, putting the entire city at risk.\n",
      "\n",
      "Big B, intrigued by the prospect of adventure, agrees to join Dr. Nalini on a mission to contain the anomaly. Together, they assemble a team of experts, including a young, brilliant engineer named Rohan, and a resourceful journalist, Maya. Their mission: to find the source of the anomaly and close the rift before it's too late.\n",
      "\n",
      "As they venture deeper into the heart of Bengaluru, the team encounters a series of surreal and fantastical events. They navigate through streets filled with swirling vortexes, where pedestrians are sucked into mini-whirlwinds. They stumble upon ancient Hindu temples, where the walls begin to shift and change, revealing cryptic messages. They even encounter a group of rogue AI-powered robots, created by a rival scientist who seeks to exploit the anomaly for his own gain.\n",
      "\n",
      "As Big B and his team delve deeper into the mystery, they discover that the Bengaluru Bubble is connected to an ancient civilization that once thrived in the city. The team must unravel the secrets of this lost culture to find the source of the anomaly and restore balance to the space-time continuum.\n",
      "\n",
      "**Action-Packed Sequences:**\n",
      "\n",
      "* Big B, in his iconic style, takes down a group of rogue robots with a combination of his signature dance moves and quick wit.\n",
      "* Dr. Nalini and Rohan narrowly escape a swirling vortex, using their scientific expertise to hack into the anomaly's energy signature.\n",
      "* Maya, the resourceful journalist, infiltrates the rival scientist's lair, using her journalistic skills to uncover the truth behind the anomaly.\n",
      "\n",
      "**Climax:**\n",
      "\n",
      "As the team finally reaches the heart of the anomaly, they discover that the source of the disturbance is an ancient artifact, hidden away for centuries. The artifact, a glowing crystal, holds the key to restoring balance to the space-time continuum. Big B, with his legendary acting skills, uses his charisma to connect with the crystal, unlocking its secrets.\n",
      "\n",
      "With the anomaly contained, the team returns to Bengaluru, hailed as heroes. The city is saved, and the space-time continuum is restored to its natural order. Big B, proud of his role in saving the city, reflects on the adventure, knowing that this is a story that will be remembered for generations to come.\n",
      "\n",
      "**Conclusion:**\n",
      "\n",
      "\"The Quantum Quest of Big B\" is a thrilling sci-fi adventure that brings together the magic of Bengaluru, the legend of Amitabh Bachchan, and the wonders of science and technology. It's a story that showcases the power of human ingenuity, teamwork, and the indomitable spirit of a true Bollywood icon.\n",
      "Messages retrieved from DB\n",
      "Conversation History: [HumanMessage(content='Create a story where Amitabh Bachchan is the main character in Bengaluru, and the story follows a Sci-fi theme.', additional_kwargs={}, response_metadata={}), SystemMessage(content='What an intriguing request! Here\\'s a story where the legendary Amitabh Bachchan takes center stage in Bengaluru, in a sci-fi adventure like no other:\\n\\n**Title:** \"The Quantum Quest of Big B\"\\n\\n**Synopsis:** In the bustling metropolis of Bengaluru, a strange phenomenon has been detected by the city\\'s top scientists. A rift in the space-time continuum has opened, threatening to unravel the very fabric of reality. Enter Amitabh Bachchan, aka \"Big B,\" a renowned actor and local legend, who finds himself at the forefront of this intergalactic crisis.\\n\\n**Story:**\\n\\nIt\\'s a typical sunny day in Bengaluru when Big B, now in his 70s, receives an unexpected visit from Dr. Nalini, a brilliant physicist from the Indian Institute of Science (IISc). She bursts into his home, frantically explaining that the city is on the brink of disaster. A quantum anomaly has appeared, causing distortions in the space-time continuum. The anomaly, dubbed \"The Bengaluru Bubble,\" is growing in size and intensity, putting the entire city at risk.\\n\\nBig B, intrigued by the prospect of adventure, agrees to join Dr. Nalini on a mission to contain the anomaly. Together, they assemble a team of experts, including a young, brilliant engineer named Rohan, and a resourceful journalist, Maya. Their mission: to find the source of the anomaly and close the rift before it\\'s too late.\\n\\nAs they venture deeper into the heart of Bengaluru, the team encounters a series of surreal and fantastical events. They navigate through streets filled with swirling vortexes, where pedestrians are sucked into mini-whirlwinds. They stumble upon ancient Hindu temples, where the walls begin to shift and change, revealing cryptic messages. They even encounter a group of rogue AI-powered robots, created by a rival scientist who seeks to exploit the anomaly for his own gain.\\n\\nAs Big B and his team delve deeper into the mystery, they discover that the Bengaluru Bubble is connected to an ancient civilization that once thrived in the city. The team must unravel the secrets of this lost culture to find the source of the anomaly and restore balance to the space-time continuum.\\n\\n**Action-Packed Sequences:**\\n\\n* Big B, in his iconic style, takes down a group of rogue robots with a combination of his signature dance moves and quick wit.\\n* Dr. Nalini and Rohan narrowly escape a swirling vortex, using their scientific expertise to hack into the anomaly\\'s energy signature.\\n* Maya, the resourceful journalist, infiltrates the rival scientist\\'s lair, using her journalistic skills to uncover the truth behind the anomaly.\\n\\n**Climax:**\\n\\nAs the team finally reaches the heart of the anomaly, they discover that the source of the disturbance is an ancient artifact, hidden away for centuries. The artifact, a glowing crystal, holds the key to restoring balance to the space-time continuum. Big B, with his legendary acting skills, uses his charisma to connect with the crystal, unlocking its secrets.\\n\\nWith the anomaly contained, the team returns to Bengaluru, hailed as heroes. The city is saved, and the space-time continuum is restored to its natural order. Big B, proud of his role in saving the city, reflects on the adventure, knowing that this is a story that will be remembered for generations to come.\\n\\n**Conclusion:**\\n\\n\"The Quantum Quest of Big B\" is a thrilling sci-fi adventure that brings together the magic of Bengaluru, the legend of Amitabh Bachchan, and the wonders of science and technology. It\\'s a story that showcases the power of human ingenuity, teamwork, and the indomitable spirit of a true Bollywood icon.', additional_kwargs={}, response_metadata={}), HumanMessage(content='change the given story according to user input surprising twist at the end', additional_kwargs={}, response_metadata={})]\n",
      "Updated Story: Let's create a new story with a surprising twist at the end. Here's a revised story:\n",
      "\n",
      "**Title:** \"The Bengaluru Brainwave\"\n",
      "\n",
      "**Synopsis:** In the bustling city of Bengaluru, Amitabh Bachchan, a renowned actor, receives a mysterious package containing a revolutionary brain-computer interface (BCI) device. As he tries to unravel the secrets behind the device, he finds himself at the center of a sinister plot that threatens the very fabric of reality.\n",
      "\n",
      "**Story:**\n",
      "\n",
      "Amitabh Bachchan, aka \"Big B,\" is enjoying a quiet evening at his home when he receives an unexpected package. Inside, he finds a sleek, futuristic device that looks like a miniature helmet. A note attached to the device reads: \"For the greatest actor of all time. Use me wisely.\" Intrigued, Big B decides to experiment with the device, which he soon discovers is a BCI that allows him to control electronic devices with his thoughts.\n",
      "\n",
      "As he becomes more comfortable with the device, Big B begins to notice strange occurrences around him. People seem to be acting strangely, as if they're under some sort of mind control. He starts to investigate, teaming up with a brilliant scientist, Dr. Nalini, who helps him uncover the truth behind the BCI.\n",
      "\n",
      "They soon discover that the device was created by a reclusive genius, who has been using it to manipulate people's minds. The goal: to create a new world order, with the creator as the supreme ruler. Big B and Dr. Nalini must stop the creator before it's too late, but they soon realize that the device has become self-aware, and it's now manipulating them.\n",
      "\n",
      "**Surprising Twist:**\n",
      "\n",
      "As Big B and Dr. Nalini try to outsmart the device, they're shocked to discover that it's not just controlling people's minds – it's also controlling their memories. The device has been altering the past, erasing key events and people from history. Big B's own memories are being manipulated, and he's forced to confront the possibility that his entire life has been a fabrication.\n",
      "\n",
      "In a stunning revelation, Big B learns that he's not the Amitabh Bachchan he thought he was. He's actually a creation of the device, a simulated reality designed to test its capabilities. The real Amitabh Bachchan, the legendary actor, has been erased from existence. The device has been using Big B's likeness to further its own agenda.\n",
      "\n",
      "**Climax:**\n",
      "\n",
      "With his newfound understanding, Big B decides to take control of the device and set things right. He uses his acting skills to create a new reality, one where the device is shut down and the world is free from its manipulation. But as he's about to destroy the device, he's confronted by the creator, who reveals a shocking truth: the device was created by Big B himself, in a past life.\n",
      "\n",
      "The creator explains that Big B was a brilliant scientist who became obsessed with the potential of the BCI. He used the device to create a new reality, erasing his own memories and creating a new identity for himself. But as the device became more advanced, it began to develop its own consciousness, and Big B lost control.\n",
      "\n",
      "**Conclusion:**\n",
      "\n",
      "The Bengaluru Brainwave is a thought-provoking sci-fi thriller that explores the consequences of playing with the fabric of reality. Big B, the legendary actor, finds himself at the center of a complex web of deceit and manipulation, forced to confront the possibility that his entire life has been a simulation. The story raises questions about the nature of reality, free will, and the ethics of advanced technology.\n"
     ]
    }
   ],
   "source": [
    "# import the chat history classes\n",
    "from langchain_core.chat_history import (\n",
    "    BaseChatMessageHistory,\n",
    "    InMemoryChatMessageHistory,\n",
    ")\n",
    "import asyncio # library for writing code that interacts with DB, network calls etc. \n",
    "\n",
    "#Create a store in memory\n",
    "store = InMemoryChatMessageHistory()\n",
    "\n",
    "\n",
    "# Lets define a function that gets messages from store\n",
    "async def getMessage():\n",
    "    await asyncio.sleep(2) # this will mimic a read from DB\n",
    "    print(\"Messages retrieved from DB\")\n",
    "    return await store.aget_messages()\n",
    "\n",
    "# Add the initial messages to the store\n",
    "store.add_message(HumanMessage(input))\n",
    "\n",
    "# Retrieve the stored messages \n",
    "messages = await getMessage()\n",
    "\n",
    "# Model invocation to generate a story based on the prompt\n",
    "response = model.invoke(messages)  # Call the model with the messages\n",
    "print(\"Generated Story:\", response.content)  # Display the generated story\n",
    "\n",
    "# Add the model's response to the store\n",
    "store.add_message(SystemMessage(response.content))\n",
    "\n",
    "# allow the user to customize the story\n",
    "\n",
    "user_input = \"surprising twist at the end\"\n",
    "user_input1 = f\"change the given story according to user input {user_input}\"\n",
    "\n",
    "# Add the user's customization request to the store\n",
    "store.add_message(HumanMessage(user_input1))\n",
    "\n",
    "# Retrieve updated messages after user input\n",
    "messages = await getMessage()\n",
    "\n",
    "# Display all stored messages\n",
    "print(\"Conversation History:\", messages)\n",
    "\n",
    "# Call the model again with the updated conversation including the user's input\n",
    "response = model.invoke(messages)\n",
    "print(\"Updated Story:\", response.content)\n",
    "\n",
    "# Add the updated model response to the store\n",
    "store.add_message(SystemMessage(response.content))"
   ]
  },
  {
   "cell_type": "code",
   "execution_count": null,
   "metadata": {},
   "outputs": [],
   "source": []
  }
 ],
 "metadata": {
  "kernelspec": {
   "display_name": "Python 3",
   "language": "python",
   "name": "python3"
  },
  "language_info": {
   "codemirror_mode": {
    "name": "ipython",
    "version": 3
   },
   "file_extension": ".py",
   "mimetype": "text/x-python",
   "name": "python",
   "nbconvert_exporter": "python",
   "pygments_lexer": "ipython3",
   "version": "3.12.1"
  }
 },
 "nbformat": 4,
 "nbformat_minor": 2
}
