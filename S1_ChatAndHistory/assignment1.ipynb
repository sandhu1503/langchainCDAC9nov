{
 "cells": [
  {
   "cell_type": "code",
   "execution_count": 3,
   "metadata": {},
   "outputs": [],
   "source": [
    "import os\n",
    "import configparser\n",
    "from langchain_groq import ChatGroq\n",
    "from langchain_cohere import ChatCohere\n",
    "from langchain_core.messages import HumanMessage, SystemMessage\n",
    "\n",
    "config = configparser.ConfigParser()\n",
    "config.read('../config.ini')\n",
    "groq = config['groq']\n",
    "cohere = config['cohere']\n",
    "\n",
    "os.environ['GROQ_API_KEY'] = groq.get('GROQ_API_KEY')\n",
    "os.environ['COHERE_API_KEY'] = cohere.get('COHERE_API_KEY')"
   ]
  },
  {
   "cell_type": "code",
   "execution_count": 4,
   "metadata": {},
   "outputs": [
    {
     "data": {
      "text/plain": [
       "\"Priyanka Chopra stars as Mira in this dramatic tale set in the heart of Ahmedabad. \\n\\nMira is a young and ambitious woman with a passion for art and a dream to leave her mark on the world. Growing up in the vibrant and cultural city of Ahmedabad, she always felt a deep connection to its rich history and traditions. \\n\\nAs Mira pursues her artistic dreams, she finds herself entangled in a complex web of family secrets and long-buried truths. Her once-idyllic childhood takes on a darker shade as she uncovers a hidden past that threatens to shatter her world. \\n\\nThe story unfolds as Mira, driven by her relentless spirit, delves into the mysteries of her family's history. She navigates a landscape of emotional revelations and long-held silences, all while trying to forge her path and make her mark on the city she calls home. \\n\\nAs the layers of secrets peel away, Mira discovers a strength she never knew she possessed. Her artistic passion becomes a means of self-discovery and a way to heal the wounds of the past. Through her journey, she touches the lives of those around her and finds that her pursuit of the truth has the power to transform not just her own life, but the lives of everyone involved. \\n\\nIn the end, Mira's story becomes a testament to the power of resilience and the enduring spirit of creativity. It is a tale of family, forgiveness, and the ability to rise above a troubled past. \\n\\nAnd so, in the bustling and colorful city of Ahmedabad, Priyanka Chopra brings to life a story that captures the essence of drama, where personal triumphs and revelations shine amidst the vibrant backdrop of Indian culture and tradition.\""
      ]
     },
     "execution_count": 4,
     "metadata": {},
     "output_type": "execute_result"
    }
   ],
   "source": [
    "import assignment\n",
    "from langchain_core.output_parsers import StrOutputParser\n",
    "from langchain_core.prompts import ChatPromptTemplate #import the Class for creating a prompt\n",
    "\n",
    "parser = StrOutputParser()\n",
    "actor = assignment.actor_picker() \n",
    "location = assignment.location_picker()\n",
    "theme = assignment.theme_picker()\n",
    "\n",
    "system_template = \"generates a story centered around the chosen Actor, Location, and Theme.Please provide a {responseType} response.\" \n",
    "\n",
    "input = f\"Create a story where {actor} is the main character in {location}, and the story follows a {theme} theme.\"\n",
    "# Create prompt template instance.\n",
    "prompt_template = ChatPromptTemplate.from_messages(\n",
    "    [\n",
    "        (\"system\", system_template),\n",
    "        (\"user\", input)\n",
    "    ]\n",
    ")\n",
    "\n",
    "# prompt Template also implements runnable and can be easily chained.\n",
    "model = ChatCohere(model=\"command-r-plus\")\n",
    "chain = prompt_template | model | parser\n",
    "\n",
    "chain.invoke({\"responseType\":\"brief\"})\n"
   ]
  },
  {
   "cell_type": "code",
   "execution_count": 5,
   "metadata": {},
   "outputs": [
    {
     "data": {
      "text/plain": [
       "\"Title: The Colors of Change\\n\\nPriyanka Chopra, a renowned actress, stepped off the train at Ahmedabad's Sabarmati railway station, the vibrant city's bustle enveloping her like a warm hug. She had arrived in search of inspiration for her next role, and the city's rich cultural heritage and tumultuous history beckoned her.\\n\\nAs she checked into her hotel, Priyanka was struck by the city's kaleidoscope of colors – the bright hues of the traditional Gujarati clothing, the saffron and crimson of the temples, and the dusty pink of the ancient architecture. She felt an inexplicable connection to this place, as if the stories she was about to uncover would somehow become a part of her own narrative.\\n\\nPriyanka began her journey by visiting the magnificent Akshardham temple, its intricate carvings and stunning architecture a testament to the city's rich cultural heritage. As she wandered through the complex, she stumbled upon a group of young girls, their faces painted with bright colors and their eyes shining with determination. They were part of a local theater troupe, performing traditional Gujarati folk dances and stories.\\n\\nIntrigued, Priyanka attended one of their performances, mesmerized by the energy and passion of the young artists. After the show, she met with the troupe's director, a fiery and charismatic woman named Nalini, who shared with her the story of the city's struggles and triumphs.\\n\\nAs the days passed, Priyanka found herself drawn into the city's complex web of stories – tales of love and loss, of struggle and resilience. She spent hours talking with Nalini and the troupe, learning about the city's history, its people, and its myths. The city's colors seemed to seep into her very being, influencing her thoughts and emotions.\\n\\nOne night, as she sat on the banks of the Sabarmati river, watching the stars twinkle to life, Priyanka felt a sudden surge of creativity. She knew that she had found her next role – that of a woman who embodied the spirit of Ahmedabad, a city where tradition and modernity coexisted in a vibrant dance of colors.\\n\\nAnd so, Priyanka began to weave her own story, a drama that would bring together the city's stories and myths, its characters and conflicts. The Colors of Change was born, a testament to the power of art to transform and uplift. As the city's colors swirling around her, Priyanka knew that she had found her true calling – to tell the stories of this magnificent city, and to bring its colors to the world.\""
      ]
     },
     "execution_count": 5,
     "metadata": {},
     "output_type": "execute_result"
    }
   ],
   "source": [
    "model = ChatGroq(model=\"llama3-8b-8192\")\n",
    "chain = prompt_template | model | parser\n",
    "\n",
    "chain.invoke({\"responseType\":\"brief\"})"
   ]
  },
  {
   "cell_type": "code",
   "execution_count": 6,
   "metadata": {},
   "outputs": [
    {
     "name": "stdout",
     "output_type": "stream",
     "text": [
      "Messages retrieved from DB\n",
      "Generated Story: Title: The Ahmedabad Affair\n",
      "\n",
      "Priyanka Chopra, a renowned Bollywood actress, found herself in the midst of a dramatic love triangle in Ahmedabad, the vibrant city of Gujarat. Her visit to the city was meant to be a quick publicity stint for her upcoming film, but little did she know that her life was about to take a dramatic turn.\n",
      "\n",
      "As she stepped off the plane, Priyanka was greeted by the warm Gujarati sunshine and the sound of traditional folk music filling the air. She had been looking forward to this trip for weeks, eager to explore the city's rich cultural heritage and get a break from the hustle and bustle of Mumbai.\n",
      "\n",
      "Her first stop was the iconic Ahmedabad Museum, where she was scheduled to launch a new exhibit on the city's history. As she walked through the exhibits, she was struck by the beauty and grandeur of the ancient structures on display. It was then that she met him - Rohan, a charming and handsome local historian who was guiding the exhibit.\n",
      "\n",
      "Their initial conversation flowed effortlessly, and before long, they found themselves lost in conversation, discussing everything from art to politics. Priyanka was smitten, and Rohan seemed equally taken by her. As the days went by, they continued to run into each other, exploring the city's hidden gems and sharing laughter and stories.\n",
      "\n",
      "But just as things were heating up between them, Priyanka received an unexpected phone call from her producer, informing her that her co-star, the dashing and arrogant Bollywood heartthrob, Raj, would be joining her in Ahmedabad for a promotional event. Raj had a reputation for being ruthless in his pursuit of fame and fortune, and Priyanka knew that she had to tread carefully around him.\n",
      "\n",
      "As Raj arrived in the city, he immediately set his sights on Priyanka, trying to win her over with his charm and good looks. But Priyanka was torn between her growing feelings for Rohan and her professional obligations to Raj. The tension between the two men was palpable, and Priyanka found herself caught in the middle of a dramatic love triangle.\n",
      "\n",
      "As the promotional event approached, Priyanka's emotions reached a boiling point. She knew that she had to make a choice between her two suitors, but she was afraid of hurting either of them. In the end, she decided to follow her heart, and in a dramatic twist, she chose Rohan over Raj.\n",
      "\n",
      "The aftermath was chaotic, with Raj threatening to ruin her reputation and Rohan standing by her side, determined to protect her from the fallout. In the end, Priyanka emerged victorious, her integrity and values intact. She realized that true love was worth fighting for, and that Ahmedabad had taught her the value of staying true to herself.\n",
      "\n",
      "The Ahmedabad Affair was a drama-filled tale of love, loyalty, and self-discovery, one that would stay with Priyanka forever. As she left the city, she knew that she would always cherish the memories of her time in Ahmedabad, and the lessons she had learned about the power of true love.\n",
      "Messages retrieved from DB\n",
      "Conversation History: [HumanMessage(content='Create a story where Priyanka Chopra is the main character in Ahmedabad, and the story follows a Drama theme.', additional_kwargs={}, response_metadata={}), SystemMessage(content=\"Title: The Ahmedabad Affair\\n\\nPriyanka Chopra, a renowned Bollywood actress, found herself in the midst of a dramatic love triangle in Ahmedabad, the vibrant city of Gujarat. Her visit to the city was meant to be a quick publicity stint for her upcoming film, but little did she know that her life was about to take a dramatic turn.\\n\\nAs she stepped off the plane, Priyanka was greeted by the warm Gujarati sunshine and the sound of traditional folk music filling the air. She had been looking forward to this trip for weeks, eager to explore the city's rich cultural heritage and get a break from the hustle and bustle of Mumbai.\\n\\nHer first stop was the iconic Ahmedabad Museum, where she was scheduled to launch a new exhibit on the city's history. As she walked through the exhibits, she was struck by the beauty and grandeur of the ancient structures on display. It was then that she met him - Rohan, a charming and handsome local historian who was guiding the exhibit.\\n\\nTheir initial conversation flowed effortlessly, and before long, they found themselves lost in conversation, discussing everything from art to politics. Priyanka was smitten, and Rohan seemed equally taken by her. As the days went by, they continued to run into each other, exploring the city's hidden gems and sharing laughter and stories.\\n\\nBut just as things were heating up between them, Priyanka received an unexpected phone call from her producer, informing her that her co-star, the dashing and arrogant Bollywood heartthrob, Raj, would be joining her in Ahmedabad for a promotional event. Raj had a reputation for being ruthless in his pursuit of fame and fortune, and Priyanka knew that she had to tread carefully around him.\\n\\nAs Raj arrived in the city, he immediately set his sights on Priyanka, trying to win her over with his charm and good looks. But Priyanka was torn between her growing feelings for Rohan and her professional obligations to Raj. The tension between the two men was palpable, and Priyanka found herself caught in the middle of a dramatic love triangle.\\n\\nAs the promotional event approached, Priyanka's emotions reached a boiling point. She knew that she had to make a choice between her two suitors, but she was afraid of hurting either of them. In the end, she decided to follow her heart, and in a dramatic twist, she chose Rohan over Raj.\\n\\nThe aftermath was chaotic, with Raj threatening to ruin her reputation and Rohan standing by her side, determined to protect her from the fallout. In the end, Priyanka emerged victorious, her integrity and values intact. She realized that true love was worth fighting for, and that Ahmedabad had taught her the value of staying true to herself.\\n\\nThe Ahmedabad Affair was a drama-filled tale of love, loyalty, and self-discovery, one that would stay with Priyanka forever. As she left the city, she knew that she would always cherish the memories of her time in Ahmedabad, and the lessons she had learned about the power of true love.\", additional_kwargs={}, response_metadata={}), HumanMessage(content='change the given story according to user input surprising twist at the end', additional_kwargs={}, response_metadata={})]\n",
      "Updated Story: Here is a revised version of the story with a surprising twist at the end:\n",
      "\n",
      "Priyanka Chopra, a renowned Bollywood actress, found herself in the midst of a dramatic love triangle in Ahmedabad, the vibrant city of Gujarat. Her visit to the city was meant to be a quick publicity stint for her upcoming film, but little did she know that her life was about to take a dramatic turn.\n",
      "\n",
      "As she stepped off the plane, Priyanka was greeted by the warm Gujarati sunshine and the sound of traditional folk music filling the air. She had been looking forward to this trip for weeks, eager to explore the city's rich cultural heritage and get a break from the hustle and bustle of Mumbai.\n",
      "\n",
      "Her first stop was the iconic Ahmedabad Museum, where she was scheduled to launch a new exhibit on the city's history. As she walked through the exhibits, she was struck by the beauty and grandeur of the ancient structures on display. It was then that she met him - Rohan, a charming and handsome local historian who was guiding the exhibit.\n",
      "\n",
      "Their initial conversation flowed effortlessly, and before long, they found themselves lost in conversation, discussing everything from art to politics. Priyanka was smitten, and Rohan seemed equally taken by her. As the days went by, they continued to run into each other, exploring the city's hidden gems and sharing laughter and stories.\n",
      "\n",
      "But just as things were heating up between them, Priyanka received an unexpected phone call from her producer, informing her that her co-star, the dashing and arrogant Bollywood heartthrob, Raj, would be joining her in Ahmedabad for a promotional event. Raj had a reputation for being ruthless in his pursuit of fame and fortune, and Priyanka knew that she had to tread carefully around him.\n",
      "\n",
      "As Raj arrived in the city, he immediately set his sights on Priyanka, trying to win her over with his charm and good looks. But Priyanka was torn between her growing feelings for Rohan and her professional obligations to Raj. The tension between the two men was palpable, and Priyanka found herself caught in the middle of a dramatic love triangle.\n",
      "\n",
      "As the promotional event approached, Priyanka's emotions reached a boiling point. She knew that she had to make a choice between her two suitors, but she was afraid of hurting either of them. In the end, she decided to follow her heart, and in a dramatic twist, she chose... neither of them.\n",
      "\n",
      "As she stood on the rooftop of her hotel, gazing out at the city she had grown to love, Priyanka realized that she had been so caught up in the drama of her own life that she had forgotten what truly mattered. She had been so focused on her career and her romantic entanglements that she had neglected her own happiness and fulfillment.\n",
      "\n",
      "And then, just as she was about to turn and walk away, she heard a voice behind her. \"Priyanka, I've been waiting for you,\" it said.\n",
      "\n",
      "She turned to see a woman she had met briefly earlier in her trip, a local artist who had been kind enough to show her around the city. But there was something different about her now, something that caught Priyanka's attention.\n",
      "\n",
      "\"I've been waiting for you to figure out what's truly important,\" the woman said, a sly smile spreading across her face. \"You're not just a Bollywood star, Priyanka. You're a powerful woman with a platform and a voice. And it's time you used that to make a real difference in the world.\"\n",
      "\n",
      "Priyanka's heart skipped a beat as she realized the truth. This woman was her long-lost sister, someone she had never known existed. And in that moment, Priyanka knew that her life was about to take a dramatic turn, one that would change her forever.\n"
     ]
    }
   ],
   "source": [
    "# import the chat history classes\n",
    "from langchain_core.chat_history import (\n",
    "    BaseChatMessageHistory,\n",
    "    InMemoryChatMessageHistory,\n",
    ")\n",
    "import asyncio # library for writing code that interacts with DB, network calls etc. \n",
    "\n",
    "#Create a store in memory\n",
    "store = InMemoryChatMessageHistory()\n",
    "\n",
    "\n",
    "# Lets define a function that gets messages from store\n",
    "async def getMessage():\n",
    "    await asyncio.sleep(2) # this will mimic a read from DB\n",
    "    print(\"Messages retrieved from DB\")\n",
    "    return await store.aget_messages()\n",
    "\n",
    "# Add the initial messages to the store\n",
    "store.add_message(HumanMessage(input))\n",
    "\n",
    "# Retrieve the stored messages \n",
    "messages = await getMessage()\n",
    "\n",
    "# Model invocation to generate a story based on the prompt\n",
    "response = model.invoke(messages)  # Call the model with the messages\n",
    "print(\"Generated Story:\", response.content)  # Display the generated story\n",
    "\n",
    "# Add the model's response to the store\n",
    "store.add_message(SystemMessage(response.content))\n",
    "\n",
    "# allow the user to customize the story\n",
    "\n",
    "user_input = \"surprising twist at the end\"\n",
    "user_input1 = f\"change the given story according to user input {user_input}\"\n",
    "\n",
    "# Add the user's customization request to the store\n",
    "store.add_message(HumanMessage(user_input1))\n",
    "\n",
    "# Retrieve updated messages after user input\n",
    "messages = await getMessage()\n",
    "\n",
    "# Display all stored messages\n",
    "print(\"Conversation History:\", messages)\n",
    "\n",
    "# Call the model again with the updated conversation including the user's input\n",
    "response = model.invoke(messages)\n",
    "print(\"Updated Story:\", response.content)\n",
    "\n",
    "# Add the updated model response to the store\n",
    "store.add_message(SystemMessage(response.content))"
   ]
  }
 ],
 "metadata": {
  "kernelspec": {
   "display_name": "Python 3",
   "language": "python",
   "name": "python3"
  },
  "language_info": {
   "codemirror_mode": {
    "name": "ipython",
    "version": 3
   },
   "file_extension": ".py",
   "mimetype": "text/x-python",
   "name": "python",
   "nbconvert_exporter": "python",
   "pygments_lexer": "ipython3",
   "version": "3.12.1"
  }
 },
 "nbformat": 4,
 "nbformat_minor": 2
}
