{
 "cells": [
  {
   "cell_type": "code",
   "execution_count": 13,
   "metadata": {},
   "outputs": [],
   "source": [
    "import os\n",
    "import configparser\n",
    "\n",
    "from langchain_groq import ChatGroq\n",
    "from langchain_cohere import ChatCohere\n",
    "\n",
    "from langchain_core.messages import HumanMessage, SystemMessage\n",
    "\n",
    "config = configparser.ConfigParser()\n",
    "config.read('../config.ini')\n",
    "groq = config['groq']\n",
    "cohere = config['cohere']\n",
    "\n",
    "os.environ['GROQ_API_KEY'] = groq.get('GROQ_API_KEY')\n",
    "os.environ['COHERE_API_KEY'] = cohere.get('COHERE_API_KEY')"
   ]
  },
  {
   "cell_type": "code",
   "execution_count": 14,
   "metadata": {},
   "outputs": [
    {
     "data": {
      "text/plain": [
       "\"Ranbir Kapoor, a young and charismatic businessman, finds himself in the vibrant city of Kolkata on a business trip that would change his life forever. As he stepped out of the airport, the bustling city with its unique blend of modern and historic architecture captivated him. \\n\\nOn his way to the hotel, Ranbir's cab passed through the iconic Victoria Memorial, its white marble dome shining in the evening sun. The cabbie, noticing Ranbir's curiosity, shared stories of the city's rich cultural heritage and its famous literary and artistic legacy. \\n\\nThe next day, while attending a business meeting in the heart of Kolkata, Ranbir's path crossed with a beautiful and enigmatic young woman named Sonali. She was a local artist, passionate about painting and the city's culture. Their eyes met, and an instant spark ignited between them. \\n\\nAs fate would have it, they found themselves stuck in an elevator together due to a sudden power outage. In the dimly lit elevator, they introduced themselves and shared stories of their lives. Ranbir was intrigued by Sonali's passion for art and her deep knowledge of Kolkata's hidden gems. \\n\\nOver the next few days, Ranbir and Sonali explored the city together. They wandered through the narrow lanes of North Kolkata, tasting local delicacies and listening to the rhythmic beats of the hand-pulled rickshaws. They visited the vibrant markets of Gariahat, haggling with vendors and immersing themselves in the lively atmosphere. \\n\\nTheir romance blossomed against the backdrop of the city's rich tapestry. They spent hours chatting by the Hooghly River, watching the sunset behind the iconic Howrah Bridge. Ranbir even surprised Sonali with a romantic dinner at the top of the Victoria Memorial, where they danced under the stars. \\n\\nHowever, their relationship faced challenges as Sonali had to leave for Paris to pursue her dream art project. The distance between them created a strain, but their love remained strong. Ranbir decided to take a leap of faith and followed Sonali to Paris, determined to be with her. \\n\\nIn the romantic city of Paris, their love deepened as they explored the city of love together. They visited the Eiffel Tower, wandered along the Seine, and created unforgettable memories. Their story became a testament to the power of love, bridging the distance between two passionate souls. \\n\\nAs their journey continued, Ranbir and Sonali's love story became a legend among their friends and families back in Kolkata. Their names were forever intertwined with the city's romantic allure, inspiring others to believe in the power of unexpected connections and the magic that Kolkata, the city of joy, can bring.\""
      ]
     },
     "execution_count": 14,
     "metadata": {},
     "output_type": "execute_result"
    }
   ],
   "source": [
    "import assignment\n",
    "from langchain_core.output_parsers import StrOutputParser\n",
    "from langchain_core.prompts import ChatPromptTemplate #import the Class for creating a prompt\n",
    "\n",
    "parser = StrOutputParser()\n",
    "\n",
    "actor = assignment.actor_picker() \n",
    "location = assignment.location_picker()\n",
    "theme = assignment.theme_picker()\n",
    "\n",
    "system_template = \"generates a story centered around the chosen Actor, Location, and Theme.Please provide a {responseType} response.\" \n",
    "\n",
    "input = f\"Create a story where {actor} is the main character in {location}, and the story follows a {theme} theme.\"\n",
    "# Create prompt template instance.\n",
    "prompt_template = ChatPromptTemplate.from_messages(\n",
    "    [\n",
    "        (\"system\", system_template),\n",
    "        (\"user\", input)\n",
    "    ]\n",
    ")\n",
    "\n",
    "# prompt Template also implements runnable and can be easily chained.\n",
    "model = ChatCohere(model=\"command-r-plus\")\n",
    "chain = prompt_template | model | parser\n",
    "\n",
    "chain.invoke({\"responseType\":\"brief\"})\n"
   ]
  },
  {
   "cell_type": "code",
   "execution_count": 15,
   "metadata": {},
   "outputs": [
    {
     "data": {
      "text/plain": [
       "'Here\\'s a story for you:\\n\\nTitle: Love in the City of Joy\\n\\nRanbir Kapoor, a successful businessman, had always been drawn to the vibrant city of Kolkata. There was something about the streets, the food, and the people that fascinated him. So, when his company offered him a chance to expand its operations in the city, he jumped at the opportunity.\\n\\nAs Ranbir settled into his new life in Kolkata, he began to explore the city, immersing himself in its rich cultural heritage. One day, while strolling through the bustling streets of College Street, he stumbled upon a quaint little bookstore. The sign above the door read \"The Bookworm\\'s Paradise\". Intrigued, Ranbir pushed open the door and stepped inside.\\n\\nThe store was a treasure trove of books, with shelves upon shelves of novels, classics, and rare manuscripts. As Ranbir browsed through the shelves, he noticed a young woman, with striking features and piercing green eyes, sitting behind the counter. She introduced herself as Nandini, the owner of the bookstore.\\n\\nOver the next few weeks, Ranbir found himself frequenting the bookstore, not just for the books, but for Nandini\\'s warm smile and engaging conversations. As they talked, Ranbir discovered that Nandini was not only a book lover but also a passionate advocate for social causes. Their conversations flowed effortlessly, and Ranbir found himself falling for her charms.\\n\\nOne fateful evening, as they strolled along the banks of the Ganges, Ranbir mustered the courage to confess his feelings to Nandini. To his delight, she felt the same way. As the night wore on, they shared a romantic dinner at a nearby restaurant, with the city\\'s twinkling lights as their backdrop.\\n\\nAs their relationship blossomed, Ranbir and Nandini explored the city together, hand in hand. They visited the iconic Victoria Memorial, took a sunset ride on the Howrah Bridge, and savored the flavors of Kolkata\\'s street food. With each passing day, their love grew stronger, and the city became a witness to their passion.\\n\\nAs the months went by, Ranbir realized that he had found his soulmate in Nandini. He proposed to her on a moonlit night, standing in front of the majestic Dakshineswar Kali Temple. Nandini, overwhelmed with emotion, said yes.\\n\\nTheir wedding was a grand affair, with friends and family from across the city gathering to celebrate the union of the two lovers. As Ranbir and Nandini exchanged their vows, the city of Kolkata seemed to come alive, basking in the joy and love that filled the air.\\n\\nIn the end, Ranbir realized that he had found not only his business partner but also his soulmate in the city of Kolkata. And as they danced under the stars, he knew that their love would be the stuff of legend, a romance that would be etched in the annals of the city\\'s history.'"
      ]
     },
     "execution_count": 15,
     "metadata": {},
     "output_type": "execute_result"
    }
   ],
   "source": [
    "model = ChatGroq(model=\"llama3-8b-8192\")\n",
    "chain = prompt_template | model | parser\n",
    "\n",
    "chain.invoke({\"responseType\":\"brief\"})"
   ]
  },
  {
   "cell_type": "code",
   "execution_count": 16,
   "metadata": {},
   "outputs": [
    {
     "name": "stdout",
     "output_type": "stream",
     "text": [
      "Messages retrieved from DB\n",
      "Generated Story: The city of joy, Kolkata, was bustling with life as Ranbir Kapoor stepped out of the iconic Esplanade Metro Station. He had just finished a long day of shooting for his latest film and was looking forward to a relaxing evening. As he walked down the busy streets, the aroma of jhal muri and kochuri wafted through the air, making his stomach growl with hunger.\n",
      "\n",
      "As he turned a corner, he spotted a small café tucked away in a quiet alley. The sign above the door read \"Kalyan's Café\" and the words \"Homely Food\" were scribbled in bold letters. Ranbir's eyes lit up as he pushed open the door and was greeted by the warm aroma of freshly brewed coffee.\n",
      "\n",
      "He took a seat at a small table by the window and perused the menu, his eyes widening at the variety of dishes on offer. Just as he was about to order, a girl with long, curly brown hair and bright green eyes walked in, her eyes scanning the café as if searching for someone. Ranbir's heart skipped a beat as their eyes met, and he felt an inexplicable jolt of attraction.\n",
      "\n",
      "The girl, who introduced herself as Diya, was a local artist, and she had just finished a painting session at a nearby studio. She had come to Kalyan's Café to unwind and gather her thoughts. Ranbir, sensing a kindred spirit, struck up a conversation, and they discovered a shared love for art, music, and the beauty of Kolkata.\n",
      "\n",
      "As the evening wore on, they talked about everything and nothing, their conversation flowing effortlessly like the Ganges River. Ranbir found himself opening up to Diya in ways he never had with anyone before. She was kind, witty, and had a sparkle in her eyes that drew him in.\n",
      "\n",
      "As the café began to close, Ranbir asked Diya if she'd like to join him for a walk along the Hooghly River. The night air was crisp and cool, and the stars twinkled like diamonds above them. They strolled hand in hand, the sound of the river lapping against the shore creating a soothing melody.\n",
      "\n",
      "As they reached the edge of the river, Ranbir turned to Diya and confessed that he had never felt this way about anyone before. Diya's eyes sparkled, and she leaned in, her lips brushing against his. The world around them melted away, and all that was left was the gentle lapping of the river and the beat of their hearts.\n",
      "\n",
      "From that moment on, Ranbir and Diya were inseparable. They spent their days exploring the hidden corners of Kolkata, attending art exhibitions, and sipping coffee at Kalyan's Café. Ranbir found himself falling deeper in love with the city, and Diya, and the way she made him feel.\n",
      "\n",
      "As the days turned into weeks, Ranbir realized that he had found his muse in Diya. She inspired him to create his most passionate and romantic roles on screen, and he drew from his experiences with her to craft characters that won the hearts of audiences worldwide.\n",
      "\n",
      "Years went by, and Ranbir became one of the most beloved actors in Bollywood. But he never forgot the city that had brought him and Diya together. He continued to return to Kolkata, and whenever he did, he would take Diya's hand, and they would stroll along the Hooghly River, reminiscing about the magical night that had changed their lives forever.\n",
      "\n",
      "In the end, Ranbir's love story was a testament to the power of serendipity and the beauty of falling in love in the city of joy, Kolkata.\n",
      "Messages retrieved from DB\n",
      "Conversation History: [HumanMessage(content='Create a story where Ranbir Kapoor is the main character in Kolkata, and the story follows a Romance theme.', additional_kwargs={}, response_metadata={}), SystemMessage(content='The city of joy, Kolkata, was bustling with life as Ranbir Kapoor stepped out of the iconic Esplanade Metro Station. He had just finished a long day of shooting for his latest film and was looking forward to a relaxing evening. As he walked down the busy streets, the aroma of jhal muri and kochuri wafted through the air, making his stomach growl with hunger.\\n\\nAs he turned a corner, he spotted a small café tucked away in a quiet alley. The sign above the door read \"Kalyan\\'s Café\" and the words \"Homely Food\" were scribbled in bold letters. Ranbir\\'s eyes lit up as he pushed open the door and was greeted by the warm aroma of freshly brewed coffee.\\n\\nHe took a seat at a small table by the window and perused the menu, his eyes widening at the variety of dishes on offer. Just as he was about to order, a girl with long, curly brown hair and bright green eyes walked in, her eyes scanning the café as if searching for someone. Ranbir\\'s heart skipped a beat as their eyes met, and he felt an inexplicable jolt of attraction.\\n\\nThe girl, who introduced herself as Diya, was a local artist, and she had just finished a painting session at a nearby studio. She had come to Kalyan\\'s Café to unwind and gather her thoughts. Ranbir, sensing a kindred spirit, struck up a conversation, and they discovered a shared love for art, music, and the beauty of Kolkata.\\n\\nAs the evening wore on, they talked about everything and nothing, their conversation flowing effortlessly like the Ganges River. Ranbir found himself opening up to Diya in ways he never had with anyone before. She was kind, witty, and had a sparkle in her eyes that drew him in.\\n\\nAs the café began to close, Ranbir asked Diya if she\\'d like to join him for a walk along the Hooghly River. The night air was crisp and cool, and the stars twinkled like diamonds above them. They strolled hand in hand, the sound of the river lapping against the shore creating a soothing melody.\\n\\nAs they reached the edge of the river, Ranbir turned to Diya and confessed that he had never felt this way about anyone before. Diya\\'s eyes sparkled, and she leaned in, her lips brushing against his. The world around them melted away, and all that was left was the gentle lapping of the river and the beat of their hearts.\\n\\nFrom that moment on, Ranbir and Diya were inseparable. They spent their days exploring the hidden corners of Kolkata, attending art exhibitions, and sipping coffee at Kalyan\\'s Café. Ranbir found himself falling deeper in love with the city, and Diya, and the way she made him feel.\\n\\nAs the days turned into weeks, Ranbir realized that he had found his muse in Diya. She inspired him to create his most passionate and romantic roles on screen, and he drew from his experiences with her to craft characters that won the hearts of audiences worldwide.\\n\\nYears went by, and Ranbir became one of the most beloved actors in Bollywood. But he never forgot the city that had brought him and Diya together. He continued to return to Kolkata, and whenever he did, he would take Diya\\'s hand, and they would stroll along the Hooghly River, reminiscing about the magical night that had changed their lives forever.\\n\\nIn the end, Ranbir\\'s love story was a testament to the power of serendipity and the beauty of falling in love in the city of joy, Kolkata.', additional_kwargs={}, response_metadata={}), HumanMessage(content='change the given story according to user input surprising twist at the end', additional_kwargs={}, response_metadata={})]\n",
      "Updated Story: I can modify the story to include a surprising twist at the end. Here's a rewritten version:\n",
      "\n",
      "Ranbir Kapoor stepped out of the iconic Esplanade Metro Station in Kolkata, feeling a sense of familiarity wash over him. He had been in the city for a few days, shooting for his latest film, and had grown to love the vibrant energy of the streets. As he walked down the busy roads, the aroma of jhal muri and kochuri wafted through the air, making his stomach growl with hunger.\n",
      "\n",
      "He turned a corner, and his eyes landed on a small café tucked away in a quiet alley. The sign above the door read \"Kalyan's Café\" and the words \"Homely Food\" were scribbled in bold letters. Ranbir's eyes lit up as he pushed open the door and was greeted by the warm aroma of freshly brewed coffee.\n",
      "\n",
      "As he took a seat at a small table by the window, a girl with long, curly brown hair and bright green eyes walked in, her eyes scanning the café as if searching for someone. Ranbir's heart skipped a beat as their eyes met, and he felt an inexplicable jolt of attraction.\n",
      "\n",
      "The girl, who introduced herself as Diya, was a local artist, and she had just finished a painting session at a nearby studio. She had come to Kalyan's Café to unwind and gather her thoughts. Ranbir, sensing a kindred spirit, struck up a conversation, and they discovered a shared love for art, music, and the beauty of Kolkata.\n",
      "\n",
      "As the evening wore on, they talked about everything and nothing, their conversation flowing effortlessly like the Ganges River. Ranbir found himself opening up to Diya in ways he never had with anyone before. She was kind, witty, and had a sparkle in her eyes that drew him in.\n",
      "\n",
      "As the café began to close, Ranbir asked Diya if she'd like to join him for a walk along the Hooghly River. The night air was crisp and cool, and the stars twinkled like diamonds above them. They strolled hand in hand, the sound of the river lapping against the shore creating a soothing melody.\n",
      "\n",
      "As they reached the edge of the river, Ranbir turned to Diya and confessed that he had never felt this way about anyone before. Diya's eyes sparkled, and she leaned in, her lips brushing against his. The world around them melted away, and all that was left was the gentle lapping of the river and the beat of their hearts.\n",
      "\n",
      "But just as Ranbir was about to take Diya's hand and lead her back to the café, a sudden gust of wind blew out the candles lining the riverbank, plunging them into darkness. In the sudden blackness, Ranbir felt a strange sensation – his body began to glow with an otherworldly light.\n",
      "\n",
      "Diya's eyes widened in shock as Ranbir's form began to transform, his features shifting and contorting until he was no longer recognizable. It was then that Ranbir realized the truth – he was not Ranbir Kapoor, the Bollywood actor, but a reincarnated guardian angel, sent to earth to protect Diya, a powerful witch.\n",
      "\n",
      "As the truth dawned on Ranbir, he felt his powers surge through him, and he knew that he had to take Diya back to her ancestral home, where she could continue to harness her magical abilities. Together, they vanished into the night, leaving behind the stunned café owner, Kalyan, and the city of Kolkata, forever changed by the unexpected twist of events.\n",
      "\n",
      "The story ends with Ranbir and Diya flying off into the night sky, their love and magic illuminating the path ahead, as they embark on a new adventure together.\n"
     ]
    }
   ],
   "source": [
    "# import the chat history classes\n",
    "from langchain_core.chat_history import (\n",
    "    BaseChatMessageHistory,\n",
    "    InMemoryChatMessageHistory,\n",
    ")\n",
    "import asyncio # library for writing code that interacts with DB, network calls etc. \n",
    "\n",
    "#Create a store in memory\n",
    "store = InMemoryChatMessageHistory()\n",
    "\n",
    "\n",
    "# Lets define a function that gets messages from store\n",
    "async def getMessage():\n",
    "    await asyncio.sleep(2) # this will mimic a read from DB\n",
    "    print(\"Messages retrieved from DB\")\n",
    "    return await store.aget_messages()\n",
    "\n",
    "# Add the initial messages to the store\n",
    "store.add_message(HumanMessage(input))\n",
    "\n",
    "# Retrieve the stored messages \n",
    "messages = await getMessage()\n",
    "\n",
    "# Model invocation to generate a story based on the prompt\n",
    "response = model.invoke(messages)  # Call the model with the messages\n",
    "print(\"Generated Story:\", response.content)  # Display the generated story\n",
    "\n",
    "# Add the model's response to the store\n",
    "store.add_message(SystemMessage(response.content))\n",
    "\n",
    "# allow the user to customize the story\n",
    "\n",
    "user_input = \"surprising twist at the end\"\n",
    "user_input1 = f\"change the given story according to user input {user_input}\"\n",
    "\n",
    "# Add the user's customization request to the store\n",
    "store.add_message(HumanMessage(user_input1))\n",
    "\n",
    "# Retrieve updated messages after user input\n",
    "messages = await getMessage()\n",
    "\n",
    "# Display all stored messages\n",
    "print(\"Conversation History:\", messages)\n",
    "\n",
    "# Call the model again with the updated conversation including the user's input\n",
    "response = model.invoke(messages)\n",
    "print(\"Updated Story:\", response.content)\n",
    "\n",
    "# Add the updated model response to the store\n",
    "store.add_message(SystemMessage(response.content))"
   ]
  }
 ],
 "metadata": {
  "kernelspec": {
   "display_name": "Python 3",
   "language": "python",
   "name": "python3"
  },
  "language_info": {
   "codemirror_mode": {
    "name": "ipython",
    "version": 3
   },
   "file_extension": ".py",
   "mimetype": "text/x-python",
   "name": "python",
   "nbconvert_exporter": "python",
   "pygments_lexer": "ipython3",
   "version": "3.12.1"
  }
 },
 "nbformat": 4,
 "nbformat_minor": 2
}
